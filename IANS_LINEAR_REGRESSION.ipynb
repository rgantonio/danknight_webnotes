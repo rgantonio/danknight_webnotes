{
  "nbformat": 4,
  "nbformat_minor": 0,
  "metadata": {
    "colab": {
      "name": "IANS_LINEAR_REGRESSION.ipynb",
      "provenance": [],
      "authorship_tag": "ABX9TyNtc0/yWwpYqaaET4JSzlRX",
      "include_colab_link": true
    },
    "kernelspec": {
      "name": "python3",
      "display_name": "Python 3"
    },
    "language_info": {
      "name": "python"
    }
  },
  "cells": [
    {
      "cell_type": "markdown",
      "metadata": {
        "id": "view-in-github",
        "colab_type": "text"
      },
      "source": [
        "<a href=\"https://colab.research.google.com/github/rgantonio/danknight_webnotes/blob/main/IANS_LINEAR_REGRESSION.ipynb\" target=\"_parent\"><img src=\"https://colab.research.google.com/assets/colab-badge.svg\" alt=\"Open In Colab\"/></a>"
      ]
    },
    {
      "cell_type": "markdown",
      "source": [
        "# In a Nutshell: Linear Regression: \n",
        "\n"
      ],
      "metadata": {
        "id": "oUHxOrAVZANX"
      }
    },
    {
      "cell_type": "markdown",
      "source": [
        "Linear regression is nothing more than a curve fitting model. Simple linear regression assumes that a data set can be modelled using a simple line. That means for a given data set, we estimate the trend to be in the form of:\n",
        "\n",
        "$$ y =\\beta_0 + \\beta_1 x $$\n",
        "\n",
        "Let's take a simple example. First let's import some simple packages."
      ],
      "metadata": {
        "id": "MYuGGijxPSFV"
      }
    },
    {
      "cell_type": "code",
      "source": [
        "####################################\n",
        "# Importing packages for simulation\n",
        "####################################\n",
        "import numpy as np\n",
        "import pandas as pd\n",
        "import matplotlib.pyplot as plt\n",
        "import seaborn as sns"
      ],
      "metadata": {
        "id": "gCOpq6v4qofJ"
      },
      "execution_count": 2,
      "outputs": []
    },
    {
      "cell_type": "markdown",
      "source": [
        "Let's say we have an array for different y values and x values. Our goal is to determine the coefficients $\\beta_0$ and $\\beta_1$ that creates a line that best fits the data set."
      ],
      "metadata": {
        "id": "4KNBbra8xhy5"
      }
    },
    {
      "cell_type": "code",
      "source": [
        "####################################\n",
        "# X and y data\n",
        "####################################\n",
        "x = np.array([ 0, 1, 3, 4, 6, 7, 9, 10, 11, 12, 13, 14, 17, 18, 19, 21, 22, 24, 25, 26, 28, 31, 33, 34, 35, 36, 38, 39])\n",
        "y = np.array([-65,  35, 132,  90,  82, 116,  48, 172, 221, 166, 147, 127, 150, 294, 192, 289, 237, 329, 360, 256, 355, 342, 457, 317, 290, 391, 437, 513])"
      ],
      "metadata": {
        "id": "WsXlPqH0x3gb"
      },
      "execution_count": 12,
      "outputs": []
    },
    {
      "cell_type": "markdown",
      "source": [
        "Let's take a quick look at the plot."
      ],
      "metadata": {
        "id": "7q9f1KOm0Bfr"
      }
    },
    {
      "cell_type": "code",
      "source": [
        "####################################\n",
        "# Initial plot\n",
        "####################################\n",
        "fig = plt.figure(figsize=(8,4),dpi=150)\n",
        "plt.scatter(x,y)\n",
        "plt.ylabel('y')\n",
        "plt.xlabel('x')"
      ],
      "metadata": {
        "colab": {
          "base_uri": "https://localhost:8080/",
          "height": 579
        },
        "id": "JgTArREa0EYy",
        "outputId": "5cc5e656-57a7-444e-938f-a85281f5b303"
      },
      "execution_count": 34,
      "outputs": [
        {
          "output_type": "execute_result",
          "data": {
            "text/plain": [
              "Text(0.5, 0, 'x')"
            ]
          },
          "metadata": {},
          "execution_count": 34
        },
        {
          "output_type": "display_data",
          "data": {
            "text/plain": [
              "<Figure size 1200x600 with 1 Axes>"
            ],
            "image/png": "[encoded data removed]"
          },
          "metadata": {
            "needs_background": "light"
          }
        }
      ]
    },
    {
      "cell_type": "markdown",
      "source": [
        "At a glance there could be a reliable trend. The question is, what is the best linear equation that can represent the trend. We could do trial and error guesses because it's just a simple linear trend. But can we do something to systematically calculate the coefficients? Answer is **YES**."
      ],
      "metadata": {
        "id": "EpAipYG11CNp"
      }
    },
    {
      "cell_type": "markdown",
      "source": [
        "# Residual Sum of Squares (RSS)\n",
        "\n"
      ],
      "metadata": {
        "id": "wfOL_Rwj1v2J"
      }
    },
    {
      "cell_type": "markdown",
      "source": [
        "These problems are optimization problems. Basically, our goal is to find a linear equation:\n",
        "\n",
        "$$ \\hat{y} = \\beta_0 + \\beta_1 x $$\n",
        "\n",
        " Such that the error difference between our model (i.e., the line equation) and the actual data points is minimized! Essentially, we have a minimization problem. We write $\\hat{y}$ to indicate that this is the predicted values based on the linear equation. We let $y$ be the actual data set values.\n",
        "\n",
        "There are several ways to quantify errors. For example, we can get the actual error difference:\n",
        "\n",
        "$$e = \\hat{y} - y $$\n",
        "\n",
        "Or the absolute difference:\n",
        "\n",
        "$$|e| = |\\hat{y} - y| $$\n",
        "\n",
        "But the most popular one is the residual sum of square errors (RSS). RSS is essentially:\n",
        "\n",
        "$$ RSS = e_1^2 + e_2^2 + e_3^2 + ... + e_n^2 $$\n",
        "\n",
        "Where the subscripts pertain to the data point. Let's focus on RSS. Our minimization problem is essentially to pick the coeffcients $\\beta_0$ and $\\beta_1$ such that it minimizes the RSS. Expanding the equation results in:\n",
        "\n",
        "$$ \\min RSS = \\left(y_1 - (\\beta_0 + \\beta_1 x_1) \\right)^2 + \\left(y_1 - (\\beta_0 + \\beta_1 x_1) \\right)^2 + \\left(y_1 - (\\beta_0 + \\beta_1 x_1) \\right)^2...$$\n",
        "\n",
        "Compressing it results in:\n",
        "\n",
        "$$ \\min RSS = \\sum_{i=1}^n \\left(y_i - (\\beta_0 + \\beta_1 x_i) \\right)^2$$\n",
        "\n",
        "If you recall from calculus, minimization or maximization means we get the partial derivative of $\\beta_0$ and $\\beta_1$ of RSS and equate it to 0. We would have:\n",
        "\n",
        "$$\\frac{\\partial RSS}{\\partial \\beta_0} = -2 \\sum \\left( y_i - (\\beta_0 + \\beta_1 x_i)\\right)$$\n",
        "\n",
        "$$\\frac{\\partial RSS}{\\partial \\beta_1} = -2 \\sum \\left( y_i - (\\beta_0 + \\beta_1 x_i)\\right)(x_i)$$\n",
        "\n",
        "Do some research on the math but $\\beta_0$ and $\\beta_1$ is deterministic from these two working equations since we have 2 unknowns and 2 equations. You should arrive at:\n",
        "\n",
        "$$\\beta_0 = \\mu_y - \\beta_1 \\mu_x $$\n",
        "\n",
        "$$\\beta_1 =  \\frac{\\sum(x_i - \\mu_x)(y_i - \\mu_y)}{\\sum(x_i-\\mu_x)^2} $$\n",
        "\n",
        "Let's try it out. First let's check the means of $x$ and $y$."
      ],
      "metadata": {
        "id": "kslJGFOfPPym"
      }
    },
    {
      "cell_type": "code",
      "source": [
        "####################################\n",
        "# Calculating terms\n",
        "####################################\n",
        "mean_x = x.mean()\n",
        "mean_y = y.mean()\n",
        "\n",
        "print(\"Mean of x: %f\" % mean_x)\n",
        "print(\"Mean of y: %f\" % mean_y)"
      ],
      "metadata": {
        "colab": {
          "base_uri": "https://localhost:8080/"
        },
        "id": "FzwqItGw1vV6",
        "outputId": "f3f607c5-8cad-4f9e-daf9-70b847f12a74"
      },
      "execution_count": 17,
      "outputs": [
        {
          "output_type": "stream",
          "name": "stdout",
          "text": [
            "Mean of x: 19.142857\n",
            "Mean of y: 231.428571\n"
          ]
        }
      ]
    },
    {
      "cell_type": "markdown",
      "source": [
        "Let's calculate $\\beta_1$:"
      ],
      "metadata": {
        "id": "J5LP0raP6gFq"
      }
    },
    {
      "cell_type": "code",
      "source": [
        "####################################\n",
        "# Calculating beta_1\n",
        "####################################\n",
        "\n",
        "# Numerator part\n",
        "num_part = 0\n",
        "\n",
        "for i in range(len(x)):\n",
        "  num_part += (x[i]-mean_x)*(y[i]-mean_y)\n",
        "\n",
        "# Denominator part\n",
        "den_part = 0\n",
        "\n",
        "for i in range(len(x)):\n",
        "  den_part += (x[i]-mean_x)**2\n",
        "\n",
        "beta_1 = num_part/den_part\n",
        "\n",
        "print(\"Beta_1 is: %f\" % beta_1)"
      ],
      "metadata": {
        "colab": {
          "base_uri": "https://localhost:8080/"
        },
        "id": "yuhlRSh71c-7",
        "outputId": "8bcab72e-b72d-48b9-b65c-7c548d36734c"
      },
      "execution_count": 18,
      "outputs": [
        {
          "output_type": "stream",
          "name": "stdout",
          "text": [
            "Beta_1 is: 10.701175\n"
          ]
        }
      ]
    },
    {
      "cell_type": "markdown",
      "source": [
        "Let's calculate $\\beta_0$:"
      ],
      "metadata": {
        "id": "0c9Pf0_56ivq"
      }
    },
    {
      "cell_type": "code",
      "source": [
        "####################################\n",
        "# Calculating beta_0\n",
        "####################################\n",
        "beta_0 = mean_y - beta_1*mean_x\n",
        "\n",
        "print(\"Beta_0 is: %f\" % beta_0)"
      ],
      "metadata": {
        "colab": {
          "base_uri": "https://localhost:8080/"
        },
        "id": "qwm-lO_46l1t",
        "outputId": "26c9e103-bd89-4271-ee62-fef4a60b8c21"
      },
      "execution_count": 19,
      "outputs": [
        {
          "output_type": "stream",
          "name": "stdout",
          "text": [
            "Beta_0 is: 26.577499\n"
          ]
        }
      ]
    },
    {
      "cell_type": "markdown",
      "source": [
        "Since we have:\n",
        "\n",
        "$$\\beta_0 = 26.58 $$\n",
        "$$\\beta_1 = 10.70 $$\n",
        "\n",
        "Our working equation would be:\n",
        "\n",
        "$$ \\hat{y} = 26.58 + 10.70 x $$\n",
        "\n",
        "Let's try to predict values and compare it to the earlier values:"
      ],
      "metadata": {
        "id": "yrYoHqm_640i"
      }
    },
    {
      "cell_type": "code",
      "source": [
        "####################################\n",
        "# Predicting values\n",
        "####################################\n",
        "y_pred = beta_0 + beta_1*x\n",
        "\n",
        "print(y_pred)\n",
        "print(y)"
      ],
      "metadata": {
        "colab": {
          "base_uri": "https://localhost:8080/"
        },
        "id": "eysXtLWs7IaL",
        "outputId": "eea31409-6a69-4aa6-9e9e-a9c327275bc8"
      },
      "execution_count": 22,
      "outputs": [
        {
          "output_type": "stream",
          "name": "stdout",
          "text": [
            "[ 26.57749872  37.27867416  58.68102504  69.38220048  90.78455136\n",
            " 101.4857268  122.88807768 133.58925312 144.29042856 154.991604\n",
            " 165.69277944 176.39395488 208.4974812  219.19865664 229.89983208\n",
            " 251.30218296 262.0033584  283.40570928 294.10688472 304.80806016\n",
            " 326.21041104 358.31393736 379.71628824 390.41746368 401.11863912\n",
            " 411.81981456 433.22216544 443.92334088]\n",
            "[-65  35 132  90  82 116  48 172 221 166 147 127 150 294 192 289 237 329\n",
            " 360 256 355 342 457 317 290 391 437 513]\n"
          ]
        }
      ]
    },
    {
      "cell_type": "markdown",
      "source": [
        "At a glance the data does not look perfect but if we plot the linear equation we should see a nice trend."
      ],
      "metadata": {
        "id": "5v1p8y3u7eRz"
      }
    },
    {
      "cell_type": "code",
      "source": [
        "####################################\n",
        "# Comparison plot\n",
        "####################################\n",
        "\n",
        "fig = plt.figure(figsize=(8,4),dpi=150)\n",
        "plt.scatter(x,y)\n",
        "plt.plot(x,y_pred,color='orange',lw=2)\n",
        "plt.legend(['predicted data','original data'])\n",
        "plt.ylabel('y')\n",
        "plt.xlabel('x')\n"
      ],
      "metadata": {
        "colab": {
          "base_uri": "https://localhost:8080/",
          "height": 579
        },
        "id": "sAODNrgQ7lOp",
        "outputId": "b9536aa7-f198-4764-8a78-9218f0dd3475"
      },
      "execution_count": 33,
      "outputs": [
        {
          "output_type": "execute_result",
          "data": {
            "text/plain": [
              "Text(0.5, 0, 'x')"
            ]
          },
          "metadata": {},
          "execution_count": 33
        },
        {
          "output_type": "display_data",
          "data": {
            "text/plain": [
              "<Figure size 1200x600 with 1 Axes>"
            ],
            "image/png": "[encoded data removed]"
          },
          "metadata": {
            "needs_background": "light"
          }
        }
      ]
    },
    {
      "cell_type": "markdown",
      "source": [
        "# Multivariate Linear Regression\n",
        "\n"
      ],
      "metadata": {
        "id": "BHrUMxpl9EDZ"
      }
    },
    {
      "cell_type": "markdown",
      "source": [
        "What we have just introduced is the essence of linear regression. It's just a curve fitting function! Our example only handles a single feature, but in practice we should be able to handle multiple ones. In general, a linear regerssion predictive model is in the form of:\n",
        "\n",
        "$$ \\hat{y} = \\sum_{i=1}^n \\beta_i x_i $$\n",
        "\n",
        "It is essentially a linear combination. Our goal is still the same, what are the appropriate $\\beta_i$ coefficients?\n",
        "\n",
        "Unforunately, solving for $\\beta_i$ is not as straightforward as what we have demonstrated. It is possible to generate hand calculations but that is a gruesome way to approach it. Instead, we can use computers to help us.\n",
        "\n",
        "We'll borrow the idea from what we have learned. Essentially, we have:\n",
        "\n",
        "1. Write down the working model.\n",
        "2. Write a cost function. In our case it was the RSS.\n",
        "3. Do optimization to minimize RSS and find the appropriate $\\beta_i$.\n",
        "\n",
        "Simple right? For a multivariate linear regression, we still use the RSS cost function but it's in the form of:\n",
        "\n",
        "$$J(\\beta) = \\frac{1}{2m} \\sum_{j=1}^m \\left(y^j-\\sum_{i=0}^n \\beta_ix_i^j \\right)^2 $$\n",
        "\n",
        "Take note that the $j$ terms here pertains to the entry number while the $i$ terms pertains to the maltivariable term. Our goal is to minimize the cost function $J(\\beta)$. We also do a partial derivative on each $\\beta_i$ term. The partial derivative for each term is called the gradient descent:\n",
        "\n",
        "$$ \\nabla J = \\begin{bmatrix}\n",
        " \\frac{\\partial J}{\\partial \\beta_0 } \\\\ \n",
        " \\frac{\\partial J}{\\partial \\beta_1 } \\\\\n",
        " \\frac{\\partial J}{\\partial \\beta_2 } \\\\\n",
        " ... \\\\\n",
        " \\frac{\\partial J}{\\partial \\beta_n }\\\\\n",
        "\\end{bmatrix} $$\n",
        "\n",
        "Then each term would have the form:\n",
        "\n",
        "$$\\frac{\\partial J}{\\partial \\beta_k } = -\\frac{1}{m} \\sum_{j=1}^m \\left( y^j - \\sum_{i=0}^n \\beta_i x_i^j \\right)x_k^j$$\n",
        "\n",
        "This is the working equation. Previously, we took the derivative and equate it to zero to find the optimal $beta$ coefficients. Here, the gradient descent function is that same derivative term but this time, we find the $beta$ terms and update it for every step. For each $j$ iteration, we allow the machine to calculate the next step until we reach a local minimum. This is the numerical method of what we just did earlier! You might ask, how do we update $\\beta_k$ then? Well:\n",
        "\n",
        "$$\\beta_0 := \\beta_0 - \\alpha \\left( \\frac{1}{m} \\sum_{j=1}^m \\left( y^j - \\sum_{i=0}^n \\beta_i x_i^j \\right)x_k^j\\right) $$\n",
        "\n",
        "$$\\beta_1 := \\beta_1 - \\alpha \\left( \\frac{1}{m} \\sum_{j=1}^m \\left( y^j - \\sum_{i=0}^n \\beta_i x_i^j \\right)x_k^j\\right) $$\n",
        "\n",
        "$$... $$\n",
        "\n",
        "$$\\beta_n := \\beta_n - \\alpha \\left( \\frac{1}{m} \\sum_{j=1}^m \\left( y^j - \\sum_{i=0}^n \\beta_i x_i^j \\right)x_k^j\\right) $$\n",
        "\n",
        "The $\\alpha$ term here is a learning rate. The learning rate tells us how \"heavy\" each step should be. The iterations can last up to infinity but there are two cases where we stop the gradient descent: (1) we reach the maximum desired iterations and (2) we reach the desired tolerable error. This completes the entire algorithm. We'll explore this next time :)"
      ],
      "metadata": {
        "id": "XRCehZPkAULG"
      }
    },
    {
      "cell_type": "markdown",
      "source": [
        "# Polynomial Regression\n",
        "\n"
      ],
      "metadata": {
        "id": "ygRCGWfdMz8V"
      }
    },
    {
      "cell_type": "markdown",
      "source": [
        "Sometimes some some features may have a synergistic effect. For example, $x_1$ and $x_2$ combined may have a very nice contribution to the overall trend. That is, instead of just looking solely at feature $x_1$ and $x_2$ separately, we may be interested in $x_1\\cdot x_2$ combination! This are, of course, hidden in the data set which may not be seen immediately. We know these to be non-linear effects but that shouldn't stop us from doing good linear regression.\n",
        "\n",
        "In this way, let's say we are interested in the combination of $x_1$ and $x_2$ features, instead of restricting ourselves to a linear regression:\n",
        "\n",
        "$$\\hat{y} = \\beta_0 + \\beta_1 x_1 + \\beta_2 x_2$$\n",
        "\n",
        "We can create a **polynomial regression** which captures non-linear effects better. However, in polynomial regression we apply multiple permutations! For example:\n",
        "\n",
        "$$\\hat{y} = \\beta_0 + \\beta_1 x_1 + \\beta_2 x_2 + \\beta_3 x_1^2 + \\beta_4 x_2^2 + \\beta_5 x_1x_2 $$\n",
        "\n",
        "Observe that we placed all combinations even starting from the isolated linear components (i.e., $\\beta_1 x_1$). This is the essence of polynomial regression. How do we find the optimal $\\beta_i$ coefficients? We just use the gradient descent method."
      ],
      "metadata": {
        "id": "thI2PySdObWW"
      }
    },
    {
      "cell_type": "markdown",
      "source": [
        "# Metrics for Performance\n"
      ],
      "metadata": {
        "id": "c-Ath98sRa3W"
      }
    },
    {
      "cell_type": "markdown",
      "source": [
        "\n",
        "Of course, just like any system, we need metrics of performance to measure how good our model (or design) is. Linear (or polynomial) regression problems are used for predicting values. That is how close is our model to the actual data. The outputs are meant for predictions and not categories. That means, the outputs or the model measures real numbers.\n",
        "\n",
        "For linear regression models we have the following metrics:\n",
        "\n",
        "1. **Mean absolute error (MAE)**:\n",
        "\n",
        "$$ P = \\frac{1}{n} \\sum_{i=1}^n |y_i - \\hat{y}_i| $$\n",
        "\n",
        "2. **Mean squared error (MSE)**:\n",
        "\n",
        "$$ P = \\frac{1}{n} \\sum_{i=1}^n \\left(y_i - \\hat{y}_i \\right)^2$$\n",
        "\n",
        "3. **Root mean squared error (RMSE)**:\n",
        "\n",
        "$$ P = \\sqrt{\\frac{1}{n} \\sum_{i=1}^n \\left(y_i - \\hat{y}_i \\right)^2}$$\n",
        "\n",
        "These metrics are important for evaluating how good our linear regression model is."
      ],
      "metadata": {
        "id": "hrNxUR8VR4XW"
      }
    },
    {
      "cell_type": "markdown",
      "source": [
        "# Regularization"
      ],
      "metadata": {
        "id": "Vq2PB35ZS0he"
      }
    },
    {
      "cell_type": "markdown",
      "source": [
        "Regularization is the method used for feature selection or reduction of overfitting. The term **overfitting** occurs when a model hits all the trained data perfectly. However, when we start testing it to unseen data, it performs poorly. We say that the model is overfitted to the trained data if this happens. To reduce overfitting we apply regularization. Regularization is like extra tuning for the cost function. What it basically does is to \"lessen\" the effects of overfitting based on the $\\beta_i$ parameters. You may need to research or review this even deeper. There are three types of regularization methods for linear regression:\n",
        "\n",
        "1. **L1 Regularization: Lasso Regression **\n",
        "\n",
        "$$ J = \\sum_{i=1}^n \\left(y_i - \\beta_0 - \\sum_{j=1}^p \\beta_jx_j \\right)^2 + \\lambda \\sum_{j=1}^p |B_j| $$\n",
        "\n",
        "Lasso regression is a simple absolute value tuning parameter with some $\\lambda$ hyperparameter. What it does is to suppress drastic changes in the trained $\\beta_i$ parameters. The advantage of lasso regression is that it can prune out features that it computes to be \"useless\". For example, sometimes a feature my not really have any significant information to the prediction.\n",
        "\n",
        "2. **L2 Regularization: Ridge Regression **\n",
        "\n",
        "$$ J = \\sum_{i=1}^n \\left(y_i - \\beta_0 - \\sum_{j=1}^p \\beta_jx_j \\right)^2 + \\lambda \\sum_{j=1}^p B_j^2 $$\n",
        "\n",
        "Ridge regression is a squared hyperparameter. The only difference with lasso is that this time, in ridge regression, the larger errors are penalized greatly. In otherwords, because of that square relationship, for every large cost, it is also greatly penalized. The only cons for this is that it cannot prune features. It is possible that the $\\beta_i$ can be close to 0. You might need to investigate the model further if this happens.\n",
        "\n",
        "3. **Combination of L1 and L2 Regression: Elastic Net**\n",
        "\n",
        "$$ J =  \\frac{1}{2n} \\sum_{i=1}^n \\left(y_i - x_i^j\\beta_j \\right)^2 + \\lambda \\left(\\frac{1-\\alpha}{2}\\sum_{j=1}^m \\beta_j^2 + \\alpha \\sum_{j=1}^m |\\beta_j| \\right)$$\n",
        "\n",
        "The elastic net regression combines both the lasso and ridge regression into one. The only trick though is that we specifiy the $\\alpha$ pamater as the weighting on how much lasso or how much ridge do we want. This provides a more sophisticated model but also combines both benefits of L1 and L2 regressions."
      ],
      "metadata": {
        "id": "TbwhfeXdS2IJ"
      }
    }
  ]
}